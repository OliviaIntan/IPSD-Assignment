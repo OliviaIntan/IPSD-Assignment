{
  "nbformat": 4,
  "nbformat_minor": 0,
  "metadata": {
    "colab": {
      "provenance": [],
      "authorship_tag": "ABX9TyPCvFsZ/DbB5Od31ZQGJXXY",
      "include_colab_link": true
    },
    "kernelspec": {
      "name": "python3",
      "display_name": "Python 3"
    },
    "language_info": {
      "name": "python"
    }
  },
  "cells": [
    {
      "cell_type": "markdown",
      "metadata": {
        "id": "view-in-github",
        "colab_type": "text"
      },
      "source": [
        "<a href=\"https://colab.research.google.com/github/OliviaIntan/IPSD-Assignment/blob/main/Modul%20-%201%20Dasar%20Dasar%20Python%20untuk%20Sains%20Data/Unguided.ipynb\" target=\"_parent\"><img src=\"https://colab.research.google.com/assets/colab-badge.svg\" alt=\"Open In Colab\"/></a>"
      ]
    },
    {
      "cell_type": "markdown",
      "source": [
        "# Soal 1"
      ],
      "metadata": {
        "id": "ZYhWRxza_0wx"
      }
    },
    {
      "cell_type": "code",
      "execution_count": 12,
      "metadata": {
        "id": "FlMnCGT_D02H",
        "colab": {
          "base_uri": "https://localhost:8080/"
        },
        "outputId": "4850b330-2430-42db-ca0a-a21cc7d00b34"
      },
      "outputs": [
        {
          "output_type": "stream",
          "name": "stdout",
          "text": [
            "Masukkan jumlah baris: 4\n",
            "1 \n",
            "2 3 \n",
            "5 7 11 \n",
            "13 17 19 23 \n"
          ]
        }
      ],
      "source": [
        "# Mengecek apakah suatu bilangan adalah bilangan prima\n",
        "def is_prime(n):\n",
        "    if n < 2:\n",
        "        return False\n",
        "    for i in range(2, int(n**0.5) + 1):\n",
        "        if n % i == 0:\n",
        "            return False\n",
        "    return True\n",
        "\n",
        "# Menghasilkan pola bilangan prima yang dimulai dengan 1\n",
        "def generate_prime_pattern(rows):\n",
        "    primes = [1]  # Memulai dengan angka 1\n",
        "    num = 2\n",
        "    while len(primes) < (rows * (rows + 1)) // 2:\n",
        "        if is_prime(num):\n",
        "            primes.append(num)\n",
        "        num += 1\n",
        "\n",
        "    index = 0\n",
        "    for i in range(1, rows + 1):\n",
        "        for j in range(i):\n",
        "            print(primes[index], end=\" \")\n",
        "            index += 1\n",
        "        print()\n",
        "\n",
        "# Jumlah baris yang ingin dihasilkan\n",
        "rows = int(input(\"Masukkan jumlah baris: \"))\n",
        "generate_prime_pattern(rows)\n"
      ]
    },
    {
      "cell_type": "markdown",
      "source": [
        "# Soal 2"
      ],
      "metadata": {
        "id": "DUghbS4JvKW4"
      }
    },
    {
      "cell_type": "code",
      "source": [
        "def odd_index_sorted_desc(list1, list2):\n",
        "    # Ambil elemen dengan indeks ganjil dari kedua list\n",
        "    odd_elements = [list1[i] for i in range(1, len(list1), 2)] + [list2[i] for i in range(1, len(list2), 2)]\n",
        "\n",
        "    # Urutkan elemen secara menurun\n",
        "    odd_elements.sort(reverse=True)\n",
        "\n",
        "    return odd_elements\n",
        "\n",
        "# Contoh penggunaan\n",
        "list1 = [12, 27, 33, 45, 51]\n",
        "list2 = [19, 23, 39, 46, 55]\n",
        "\n",
        "result = odd_index_sorted_desc(list1, list2)\n",
        "print(result)\n"
      ],
      "metadata": {
        "colab": {
          "base_uri": "https://localhost:8080/"
        },
        "id": "dh6vfVzjvtFV",
        "outputId": "69aae324-c04a-49b3-884a-3352d5cc05e3"
      },
      "execution_count": 13,
      "outputs": [
        {
          "output_type": "stream",
          "name": "stdout",
          "text": [
            "[46, 45, 27, 23]\n"
          ]
        }
      ]
    },
    {
      "cell_type": "markdown",
      "source": [
        "# Soal 3"
      ],
      "metadata": {
        "id": "qnDaKcULwokx"
      }
    },
    {
      "cell_type": "code",
      "source": [
        "# Mendefinisikan saldo awal dan nomor PIN\n",
        "saldo_awal = 1800000\n",
        "pin_terdaftar = \"3003\"\n",
        "\n",
        "# Memverifikasi PIN dengan batas 3 kali percobaan\n",
        "def verifikasi_pin():\n",
        "    kesempatan = 3\n",
        "    while kesempatan > 0:\n",
        "        pin_input = input(\"Silahkan masukkan PIN anda: \")\n",
        "        if pin_input == pin_terdaftar:\n",
        "            print(\"PIN benar.\")\n",
        "            return True\n",
        "        else:\n",
        "            kesempatan -= 1\n",
        "            print(f\"PIN salah. Anda memiliki {kesempatan} kesempatan tersisa.\")\n",
        "\n",
        "    # Jika PIN salah 3 kali, keluar dari program\n",
        "    print(\"Akses diblokir. PIN yang anda masukkan salah sebanyak 3 kali.\")\n",
        "    return False\n",
        "\n",
        "# Penarikan tunai\n",
        "def penarikan_tunai(saldo):\n",
        "    try:\n",
        "        jumlah_tarik = int(input(\"Masukkan jumlah penarikan: \"))\n",
        "        if jumlah_tarik > saldo:\n",
        "            raise ValueError(\"Maaf saldo anda tidak cukup untuk melakukan penarikan.\")\n",
        "\n",
        "        saldo -= jumlah_tarik\n",
        "        print(f\"Selamat penarikan berhasil. Saldo akhir anda adalah: Rp{saldo}\")\n",
        "\n",
        "    except ValueError as e:\n",
        "        print(e)\n",
        "\n",
        "# Simulasi ATM\n",
        "def atm():\n",
        "    if verifikasi_pin():\n",
        "        penarikan_tunai(saldo_awal)\n",
        "    else:\n",
        "        print(\"Transaksi dibatalkan.\")\n",
        "\n",
        "# Menjalankan program ATM\n",
        "atm()\n"
      ],
      "metadata": {
        "colab": {
          "base_uri": "https://localhost:8080/"
        },
        "id": "DKVILcbdwpyh",
        "outputId": "815d393b-d7b7-4840-9746-ade2d1979fa7"
      },
      "execution_count": 12,
      "outputs": [
        {
          "output_type": "stream",
          "name": "stdout",
          "text": [
            "Silahkan masukkan PIN anda: 1730\n",
            "PIN salah. Anda memiliki 2 kesempatan tersisa.\n",
            "Silahkan masukkan PIN anda: 3003\n",
            "PIN benar.\n",
            "Masukkan jumlah penarikan: 400000\n",
            "Selamat penarikan berhasil. Saldo akhir anda adalah: Rp1400000\n"
          ]
        }
      ]
    },
    {
      "cell_type": "markdown",
      "source": [
        "# Soal 4"
      ],
      "metadata": {
        "id": "UKtBuZ970UEG"
      }
    },
    {
      "cell_type": "code",
      "source": [
        "from google.colab import files\n",
        "\n",
        "# Mengunggah file CSV\n",
        "uploaded = files.upload()\n",
        "\n",
        "# Menampilkan nama file yang diunggah\n",
        "print(uploaded)\n"
      ],
      "metadata": {
        "colab": {
          "base_uri": "https://localhost:8080/",
          "height": 110
        },
        "id": "mrJBe1NP0VDr",
        "outputId": "a2c555a9-1edf-478c-994a-d4b4e84c1bf8"
      },
      "execution_count": 2,
      "outputs": [
        {
          "output_type": "display_data",
          "data": {
            "text/plain": [
              "<IPython.core.display.HTML object>"
            ],
            "text/html": [
              "\n",
              "     <input type=\"file\" id=\"files-940b50ac-2f1b-439c-9dca-2744e6d3a004\" name=\"files[]\" multiple disabled\n",
              "        style=\"border:none\" />\n",
              "     <output id=\"result-940b50ac-2f1b-439c-9dca-2744e6d3a004\">\n",
              "      Upload widget is only available when the cell has been executed in the\n",
              "      current browser session. Please rerun this cell to enable.\n",
              "      </output>\n",
              "      <script>// Copyright 2017 Google LLC\n",
              "//\n",
              "// Licensed under the Apache License, Version 2.0 (the \"License\");\n",
              "// you may not use this file except in compliance with the License.\n",
              "// You may obtain a copy of the License at\n",
              "//\n",
              "//      http://www.apache.org/licenses/LICENSE-2.0\n",
              "//\n",
              "// Unless required by applicable law or agreed to in writing, software\n",
              "// distributed under the License is distributed on an \"AS IS\" BASIS,\n",
              "// WITHOUT WARRANTIES OR CONDITIONS OF ANY KIND, either express or implied.\n",
              "// See the License for the specific language governing permissions and\n",
              "// limitations under the License.\n",
              "\n",
              "/**\n",
              " * @fileoverview Helpers for google.colab Python module.\n",
              " */\n",
              "(function(scope) {\n",
              "function span(text, styleAttributes = {}) {\n",
              "  const element = document.createElement('span');\n",
              "  element.textContent = text;\n",
              "  for (const key of Object.keys(styleAttributes)) {\n",
              "    element.style[key] = styleAttributes[key];\n",
              "  }\n",
              "  return element;\n",
              "}\n",
              "\n",
              "// Max number of bytes which will be uploaded at a time.\n",
              "const MAX_PAYLOAD_SIZE = 100 * 1024;\n",
              "\n",
              "function _uploadFiles(inputId, outputId) {\n",
              "  const steps = uploadFilesStep(inputId, outputId);\n",
              "  const outputElement = document.getElementById(outputId);\n",
              "  // Cache steps on the outputElement to make it available for the next call\n",
              "  // to uploadFilesContinue from Python.\n",
              "  outputElement.steps = steps;\n",
              "\n",
              "  return _uploadFilesContinue(outputId);\n",
              "}\n",
              "\n",
              "// This is roughly an async generator (not supported in the browser yet),\n",
              "// where there are multiple asynchronous steps and the Python side is going\n",
              "// to poll for completion of each step.\n",
              "// This uses a Promise to block the python side on completion of each step,\n",
              "// then passes the result of the previous step as the input to the next step.\n",
              "function _uploadFilesContinue(outputId) {\n",
              "  const outputElement = document.getElementById(outputId);\n",
              "  const steps = outputElement.steps;\n",
              "\n",
              "  const next = steps.next(outputElement.lastPromiseValue);\n",
              "  return Promise.resolve(next.value.promise).then((value) => {\n",
              "    // Cache the last promise value to make it available to the next\n",
              "    // step of the generator.\n",
              "    outputElement.lastPromiseValue = value;\n",
              "    return next.value.response;\n",
              "  });\n",
              "}\n",
              "\n",
              "/**\n",
              " * Generator function which is called between each async step of the upload\n",
              " * process.\n",
              " * @param {string} inputId Element ID of the input file picker element.\n",
              " * @param {string} outputId Element ID of the output display.\n",
              " * @return {!Iterable<!Object>} Iterable of next steps.\n",
              " */\n",
              "function* uploadFilesStep(inputId, outputId) {\n",
              "  const inputElement = document.getElementById(inputId);\n",
              "  inputElement.disabled = false;\n",
              "\n",
              "  const outputElement = document.getElementById(outputId);\n",
              "  outputElement.innerHTML = '';\n",
              "\n",
              "  const pickedPromise = new Promise((resolve) => {\n",
              "    inputElement.addEventListener('change', (e) => {\n",
              "      resolve(e.target.files);\n",
              "    });\n",
              "  });\n",
              "\n",
              "  const cancel = document.createElement('button');\n",
              "  inputElement.parentElement.appendChild(cancel);\n",
              "  cancel.textContent = 'Cancel upload';\n",
              "  const cancelPromise = new Promise((resolve) => {\n",
              "    cancel.onclick = () => {\n",
              "      resolve(null);\n",
              "    };\n",
              "  });\n",
              "\n",
              "  // Wait for the user to pick the files.\n",
              "  const files = yield {\n",
              "    promise: Promise.race([pickedPromise, cancelPromise]),\n",
              "    response: {\n",
              "      action: 'starting',\n",
              "    }\n",
              "  };\n",
              "\n",
              "  cancel.remove();\n",
              "\n",
              "  // Disable the input element since further picks are not allowed.\n",
              "  inputElement.disabled = true;\n",
              "\n",
              "  if (!files) {\n",
              "    return {\n",
              "      response: {\n",
              "        action: 'complete',\n",
              "      }\n",
              "    };\n",
              "  }\n",
              "\n",
              "  for (const file of files) {\n",
              "    const li = document.createElement('li');\n",
              "    li.append(span(file.name, {fontWeight: 'bold'}));\n",
              "    li.append(span(\n",
              "        `(${file.type || 'n/a'}) - ${file.size} bytes, ` +\n",
              "        `last modified: ${\n",
              "            file.lastModifiedDate ? file.lastModifiedDate.toLocaleDateString() :\n",
              "                                    'n/a'} - `));\n",
              "    const percent = span('0% done');\n",
              "    li.appendChild(percent);\n",
              "\n",
              "    outputElement.appendChild(li);\n",
              "\n",
              "    const fileDataPromise = new Promise((resolve) => {\n",
              "      const reader = new FileReader();\n",
              "      reader.onload = (e) => {\n",
              "        resolve(e.target.result);\n",
              "      };\n",
              "      reader.readAsArrayBuffer(file);\n",
              "    });\n",
              "    // Wait for the data to be ready.\n",
              "    let fileData = yield {\n",
              "      promise: fileDataPromise,\n",
              "      response: {\n",
              "        action: 'continue',\n",
              "      }\n",
              "    };\n",
              "\n",
              "    // Use a chunked sending to avoid message size limits. See b/62115660.\n",
              "    let position = 0;\n",
              "    do {\n",
              "      const length = Math.min(fileData.byteLength - position, MAX_PAYLOAD_SIZE);\n",
              "      const chunk = new Uint8Array(fileData, position, length);\n",
              "      position += length;\n",
              "\n",
              "      const base64 = btoa(String.fromCharCode.apply(null, chunk));\n",
              "      yield {\n",
              "        response: {\n",
              "          action: 'append',\n",
              "          file: file.name,\n",
              "          data: base64,\n",
              "        },\n",
              "      };\n",
              "\n",
              "      let percentDone = fileData.byteLength === 0 ?\n",
              "          100 :\n",
              "          Math.round((position / fileData.byteLength) * 100);\n",
              "      percent.textContent = `${percentDone}% done`;\n",
              "\n",
              "    } while (position < fileData.byteLength);\n",
              "  }\n",
              "\n",
              "  // All done.\n",
              "  yield {\n",
              "    response: {\n",
              "      action: 'complete',\n",
              "    }\n",
              "  };\n",
              "}\n",
              "\n",
              "scope.google = scope.google || {};\n",
              "scope.google.colab = scope.google.colab || {};\n",
              "scope.google.colab._files = {\n",
              "  _uploadFiles,\n",
              "  _uploadFilesContinue,\n",
              "};\n",
              "})(self);\n",
              "</script> "
            ]
          },
          "metadata": {}
        },
        {
          "output_type": "stream",
          "name": "stdout",
          "text": [
            "Saving siswa_nilai (1).csv to siswa_nilai (1).csv\n",
            "{'siswa_nilai (1).csv': b'Nama Siswa,Nilai\\nSiswa_1,59\\nSiswa_2,79\\nSiswa_3,61\\nSiswa_4,74\\nSiswa_5,50\\nSiswa_6,70\\nSiswa_7,100\\nSiswa_8,84\\nSiswa_9,78\\nSiswa_10,61\\nSiswa_11,92\\nSiswa_12,60\\nSiswa_13,78\\nSiswa_14,87\\nSiswa_15,57\\nSiswa_16,73\\nSiswa_17,53\\nSiswa_18,54\\nSiswa_19,97\\nSiswa_20,52\\nSiswa_21,84\\nSiswa_22,89\\nSiswa_23,52\\nSiswa_24,90\\nSiswa_25,52\\nSiswa_26,64\\nSiswa_27,96\\nSiswa_28,100\\nSiswa_29,84\\nSiswa_30,60\\nSiswa_31,85\\nSiswa_32,63\\nSiswa_33,64\\nSiswa_34,68\\nSiswa_35,67\\nSiswa_36,52\\nSiswa_37,79\\nSiswa_38,55\\nSiswa_39,88\\nSiswa_40,95\\nSiswa_41,78\\nSiswa_42,66\\nSiswa_43,71\\nSiswa_44,64\\nSiswa_45,51\\nSiswa_46,77\\nSiswa_47,90\\nSiswa_48,83\\nSiswa_49,99\\nSiswa_50,56\\nSiswa_51,68\\nSiswa_52,88\\nSiswa_53,62\\nSiswa_54,98\\nSiswa_55,58\\nSiswa_56,92\\nSiswa_57,60\\nSiswa_58,55\\nSiswa_59,93\\nSiswa_60,60\\nSiswa_61,53\\nSiswa_62,79\\nSiswa_63,75\\nSiswa_64,83\\nSiswa_65,58\\nSiswa_66,50\\nSiswa_67,75\\nSiswa_68,61\\nSiswa_69,57\\nSiswa_70,98\\nSiswa_71,85\\nSiswa_72,57\\nSiswa_73,53\\nSiswa_74,55\\nSiswa_75,54\\nSiswa_76,64\\nSiswa_77,51\\nSiswa_78,65\\nSiswa_79,68\\nSiswa_80,51\\nSiswa_81,99\\nSiswa_82,89\\nSiswa_83,92\\nSiswa_84,56\\nSiswa_85,96\\nSiswa_86,79\\nSiswa_87,76\\nSiswa_88,71\\nSiswa_89,98\\nSiswa_90,89\\nSiswa_91,92\\nSiswa_92,65\\nSiswa_93,50\\nSiswa_94,84\\nSiswa_95,67\\nSiswa_96,59\\nSiswa_97,57\\nSiswa_98,70\\nSiswa_99,66\\nSiswa_100,78\\n'}\n"
          ]
        }
      ]
    },
    {
      "cell_type": "code",
      "source": [
        "import csv\n",
        "\n",
        "# Membaca file CSV dan menyimpan datanya ke dalam dictionary\n",
        "def baca_csv(file_path):\n",
        "    data_mahasiswa = {}  # Inisialisasi dictionary kosong\n",
        "    with open(file_path, mode='r') as file:\n",
        "        csv_reader = csv.DictReader(file)\n",
        "        for row in csv_reader:\n",
        "            nama = row['Nama Siswa']\n",
        "            # Menyimpan nilai dalam bentuk list angka\n",
        "            nilai = list(map(int, [row['Nilai']]))\n",
        "            data_mahasiswa[nama] = nilai\n",
        "    return data_mahasiswa\n",
        "\n",
        "# Menghitung rata-rata nilai tiap mahasiswa\n",
        "def hitung_rata_rata(data_mahasiswa):\n",
        "    rata_rata_nilai = {}\n",
        "    for nama, nilai in data_mahasiswa.items():\n",
        "        rata_rata_nilai[nama] = sum(nilai) / len(nilai)\n",
        "    return rata_rata_nilai\n",
        "\n",
        "# Mencari mahasiswa dengan nilai tertinggi dan terendah\n",
        "def cari_tertinggi_terendah(rata_rata_nilai):\n",
        "    mahasiswa_tertinggi = max(rata_rata_nilai, key=rata_rata_nilai.get)\n",
        "    mahasiswa_terendah = min(rata_rata_nilai, key=rata_rata_nilai.get)\n",
        "\n",
        "    return mahasiswa_tertinggi, rata_rata_nilai[mahasiswa_tertinggi], mahasiswa_terendah, rata_rata_nilai[mahasiswa_terendah]\n",
        "\n",
        "# Fungsi utama\n",
        "def main():\n",
        "    # Nama file yang diunggah\n",
        "    file_path = 'siswa_nilai (1).csv'\n",
        "    data_mahasiswa = baca_csv(file_path)\n",
        "\n",
        "    # Menghitung rata-rata nilai tiap mahasiswa\n",
        "    rata_rata_nilai = hitung_rata_rata(data_mahasiswa)\n",
        "\n",
        "    # Menampilkan rata-rata nilai tiap mahasiswa\n",
        "    print(\"Rata-rata nilai tiap mahasiswa:\")\n",
        "    for nama, rata_rata in rata_rata_nilai.items():\n",
        "        print(f\"{nama}: {rata_rata:.2f}\")\n",
        "\n",
        "    # Mencari mahasiswa dengan nilai tertinggi dan terendah\n",
        "    mahasiswa_tertinggi, nilai_tertinggi, mahasiswa_terendah, nilai_terendah = cari_tertinggi_terendah(rata_rata_nilai)\n",
        "\n",
        "    # Menampilkan mahasiswa dengan nilai tertinggi dan terendah\n",
        "    print(f\"\\nMahasiswa dengan nilai tertinggi adalah {mahasiswa_tertinggi} dengan rata-rata {nilai_tertinggi:.2f}\")\n",
        "    print(f\"Mahasiswa dengan nilai terendah adalah {mahasiswa_terendah} dengan rata-rata {nilai_terendah:.2f}\")\n",
        "\n",
        "# Menjalankan program\n",
        "main()\n"
      ],
      "metadata": {
        "colab": {
          "base_uri": "https://localhost:8080/"
        },
        "id": "XF6aiIeY05UK",
        "outputId": "136738a1-73f9-4744-b524-e613b50c3680"
      },
      "execution_count": 14,
      "outputs": [
        {
          "output_type": "stream",
          "name": "stdout",
          "text": [
            "Rata-rata nilai tiap mahasiswa:\n",
            "Siswa_1: 59.00\n",
            "Siswa_2: 79.00\n",
            "Siswa_3: 61.00\n",
            "Siswa_4: 74.00\n",
            "Siswa_5: 50.00\n",
            "Siswa_6: 70.00\n",
            "Siswa_7: 100.00\n",
            "Siswa_8: 84.00\n",
            "Siswa_9: 78.00\n",
            "Siswa_10: 61.00\n",
            "Siswa_11: 92.00\n",
            "Siswa_12: 60.00\n",
            "Siswa_13: 78.00\n",
            "Siswa_14: 87.00\n",
            "Siswa_15: 57.00\n",
            "Siswa_16: 73.00\n",
            "Siswa_17: 53.00\n",
            "Siswa_18: 54.00\n",
            "Siswa_19: 97.00\n",
            "Siswa_20: 52.00\n",
            "Siswa_21: 84.00\n",
            "Siswa_22: 89.00\n",
            "Siswa_23: 52.00\n",
            "Siswa_24: 90.00\n",
            "Siswa_25: 52.00\n",
            "Siswa_26: 64.00\n",
            "Siswa_27: 96.00\n",
            "Siswa_28: 100.00\n",
            "Siswa_29: 84.00\n",
            "Siswa_30: 60.00\n",
            "Siswa_31: 85.00\n",
            "Siswa_32: 63.00\n",
            "Siswa_33: 64.00\n",
            "Siswa_34: 68.00\n",
            "Siswa_35: 67.00\n",
            "Siswa_36: 52.00\n",
            "Siswa_37: 79.00\n",
            "Siswa_38: 55.00\n",
            "Siswa_39: 88.00\n",
            "Siswa_40: 95.00\n",
            "Siswa_41: 78.00\n",
            "Siswa_42: 66.00\n",
            "Siswa_43: 71.00\n",
            "Siswa_44: 64.00\n",
            "Siswa_45: 51.00\n",
            "Siswa_46: 77.00\n",
            "Siswa_47: 90.00\n",
            "Siswa_48: 83.00\n",
            "Siswa_49: 99.00\n",
            "Siswa_50: 56.00\n",
            "Siswa_51: 68.00\n",
            "Siswa_52: 88.00\n",
            "Siswa_53: 62.00\n",
            "Siswa_54: 98.00\n",
            "Siswa_55: 58.00\n",
            "Siswa_56: 92.00\n",
            "Siswa_57: 60.00\n",
            "Siswa_58: 55.00\n",
            "Siswa_59: 93.00\n",
            "Siswa_60: 60.00\n",
            "Siswa_61: 53.00\n",
            "Siswa_62: 79.00\n",
            "Siswa_63: 75.00\n",
            "Siswa_64: 83.00\n",
            "Siswa_65: 58.00\n",
            "Siswa_66: 50.00\n",
            "Siswa_67: 75.00\n",
            "Siswa_68: 61.00\n",
            "Siswa_69: 57.00\n",
            "Siswa_70: 98.00\n",
            "Siswa_71: 85.00\n",
            "Siswa_72: 57.00\n",
            "Siswa_73: 53.00\n",
            "Siswa_74: 55.00\n",
            "Siswa_75: 54.00\n",
            "Siswa_76: 64.00\n",
            "Siswa_77: 51.00\n",
            "Siswa_78: 65.00\n",
            "Siswa_79: 68.00\n",
            "Siswa_80: 51.00\n",
            "Siswa_81: 99.00\n",
            "Siswa_82: 89.00\n",
            "Siswa_83: 92.00\n",
            "Siswa_84: 56.00\n",
            "Siswa_85: 96.00\n",
            "Siswa_86: 79.00\n",
            "Siswa_87: 76.00\n",
            "Siswa_88: 71.00\n",
            "Siswa_89: 98.00\n",
            "Siswa_90: 89.00\n",
            "Siswa_91: 92.00\n",
            "Siswa_92: 65.00\n",
            "Siswa_93: 50.00\n",
            "Siswa_94: 84.00\n",
            "Siswa_95: 67.00\n",
            "Siswa_96: 59.00\n",
            "Siswa_97: 57.00\n",
            "Siswa_98: 70.00\n",
            "Siswa_99: 66.00\n",
            "Siswa_100: 78.00\n",
            "\n",
            "Mahasiswa dengan nilai tertinggi adalah Siswa_7 dengan rata-rata 100.00\n",
            "Mahasiswa dengan nilai terendah adalah Siswa_5 dengan rata-rata 50.00\n"
          ]
        }
      ]
    },
    {
      "cell_type": "markdown",
      "source": [
        "# Soal 5"
      ],
      "metadata": {
        "id": "G09lryth8vu5"
      }
    },
    {
      "cell_type": "code",
      "source": [
        "import random\n",
        "\n",
        "def tebak_angka():\n",
        "    # Komputer memilih angka secara acak antara 1 dan 100\n",
        "    angka_rahasia = random.randint(1, 100)\n",
        "    percobaan = 5\n",
        "\n",
        "    print(\"Selamat datang di permainan sederhana Tebak Angka!\")\n",
        "    print(\"Saya sudah memilih angka antara 1 hingga 100.\")\n",
        "    print(\"Silahkan anda tebak angka yang saya pilih dengan batas kesempatan hanya 5 kali.\")\n",
        "\n",
        "    for i in range(percobaan):\n",
        "        try:\n",
        "            tebakan = int(input(f\"Tebakan ke-{i + 1}: \"))\n",
        "        except ValueError:\n",
        "            print(\"Tolong masukkan angka yang benar.\")\n",
        "            continue\n",
        "\n",
        "        if tebakan < 1 or tebakan > 100:\n",
        "            print(\"Tebakan harus antara 1 dan 100.\")\n",
        "            continue\n",
        "\n",
        "        if tebakan < angka_rahasia:\n",
        "            print(\"Tebakan anda terlalu kecil.\")\n",
        "        elif tebakan > angka_rahasia:\n",
        "            print(\"Tebakan anda terlalu besar.\")\n",
        "        else:\n",
        "            print(f\"Selamat! Anda menebak angka {angka_rahasia} dengan benar!\")\n",
        "            break\n",
        "    else:\n",
        "        print(f\"Sayang sekali! Kesempatan percobaan anda telah habis. Angka yang benar adalah {angka_rahasia}.\")\n",
        "\n",
        "# Menjalankan permainan\n",
        "tebak_angka()\n"
      ],
      "metadata": {
        "colab": {
          "base_uri": "https://localhost:8080/"
        },
        "id": "4QwlSD9K8w-x",
        "outputId": "38b55c4c-4942-4a3e-b77e-0784c4ede4c7"
      },
      "execution_count": 16,
      "outputs": [
        {
          "output_type": "stream",
          "name": "stdout",
          "text": [
            "Selamat datang di permainan sederhana Tebak Angka!\n",
            "Saya sudah memilih angka antara 1 hingga 100.\n",
            "Silahkan anda tebak angka yang saya pilih dengan batas kesempatan hanya 5 kali.\n",
            "Tebakan ke-1: 45\n",
            "Tebakan anda terlalu kecil.\n",
            "Tebakan ke-2: 67\n",
            "Tebakan anda terlalu kecil.\n",
            "Tebakan ke-3: 99\n",
            "Tebakan anda terlalu besar.\n",
            "Tebakan ke-4: 89\n",
            "Tebakan anda terlalu besar.\n",
            "Tebakan ke-5: 80\n",
            "Tebakan anda terlalu besar.\n",
            "Sayang sekali! Kesempatan percobaan anda telah habis. Angka yang benar adalah 73.\n"
          ]
        }
      ]
    },
    {
      "cell_type": "markdown",
      "source": [
        "# Soal 6"
      ],
      "metadata": {
        "id": "U7Ynnd46_J7X"
      }
    },
    {
      "cell_type": "code",
      "source": [
        "def faktorial(n):\n",
        "    if n == 0 or n == 1:\n",
        "        return 1\n",
        "    else:\n",
        "        return n * faktorial(n - 1)\n",
        "\n",
        "def urutan_faktorial(n):\n",
        "    hasil = []\n",
        "    for i in range(n + 1):  # Dimulai dari 0 hingga n\n",
        "        hasil.append(faktorial(i))\n",
        "    return hasil\n",
        "\n",
        "# Memasukkan angka\n",
        "n = 4\n",
        "output = urutan_faktorial(n)\n",
        "print(output)\n"
      ],
      "metadata": {
        "colab": {
          "base_uri": "https://localhost:8080/"
        },
        "id": "63IpZyPN_Pjd",
        "outputId": "a7774cb3-5c6d-437d-f452-29285100dc70"
      },
      "execution_count": 1,
      "outputs": [
        {
          "output_type": "stream",
          "name": "stdout",
          "text": [
            "[1, 1, 2, 6, 24]\n"
          ]
        }
      ]
    },
    {
      "cell_type": "markdown",
      "source": [
        "# Soal 7"
      ],
      "metadata": {
        "id": "Iyv7izHEBYYm"
      }
    },
    {
      "cell_type": "code",
      "source": [
        "def min_coin_change(amount, coins):\n",
        "    # Inisialisasi array untuk menyimpan jumlah koin minimum untuk setiap jumlah\n",
        "    dp = [float('inf')] * (amount + 1)\n",
        "    dp[0] = 0  # Tidak ada koin diperlukan untuk jumlah 0\n",
        "    # Melacak koin yang digunakan\n",
        "    coin_used = [-1] * (amount + 1)\n",
        "\n",
        "    # Menyusun tabel dp\n",
        "    for coin in coins:\n",
        "        for x in range(coin, amount + 1):\n",
        "            if dp[x - coin] + 1 < dp[x]:  # Jika jumlah koin baru lebih sedikit\n",
        "                dp[x] = dp[x - coin] + 1\n",
        "                coin_used[x] = coin  # Menyimpan koin yang digunakan\n",
        "\n",
        "    # Jika tidak ada kombinasi koin yang ditemukan\n",
        "    if dp[amount] == float('inf'):\n",
        "        return None, []\n",
        "\n",
        "    # Mengembalikan jumlah koin minimum yang diperlukan dan koin yang digunakan\n",
        "    result_coins = []\n",
        "    while amount > 0:\n",
        "        result_coins.append(coin_used[amount])\n",
        "        amount -= coin_used[amount]\n",
        "\n",
        "    return dp[result_coins.count(coin_used[amount])], result_coins  # Memperbaiki jumlah koin yang dikembalikan\n",
        "\n",
        "# Input dari pengguna\n",
        "amount = int(input(\"Masukkan jumlah uang yang ingin dicapai: \"))\n",
        "coins_input = input(\"Masukkan nilai koin yang tersedia (pisahkan dengan spasi): \")\n",
        "coins = list(map(int, coins_input.split()))\n",
        "\n",
        "# Menentukan kombinasi koin minimum\n",
        "result, result_coins = min_coin_change(amount, coins)\n",
        "\n",
        "if result is not None:\n",
        "    print(f\"Jumlah minimum koin yang diperlukan untuk mencapai {amount} adalah: {len(result_coins)}\")  # Menghitung jumlah koin\n",
        "    print(f\"Koin yang digunakan: {result_coins}\")\n",
        "else:\n",
        "    print(f\"Tidak mungkin mencapai jumlah {amount} dengan koin yang tersedia.\")\n"
      ],
      "metadata": {
        "colab": {
          "base_uri": "https://localhost:8080/"
        },
        "id": "9s4pmtvbBaS5",
        "outputId": "2ebbc631-aa84-4d6a-d5bb-83d23626e10b"
      },
      "execution_count": 16,
      "outputs": [
        {
          "output_type": "stream",
          "name": "stdout",
          "text": [
            "Masukkan jumlah uang yang ingin dicapai: 40\n",
            "Masukkan nilai koin yang tersedia (pisahkan dengan spasi): 1 5 10 25\n",
            "Jumlah minimum koin yang diperlukan untuk mencapai 40 adalah: 3\n",
            "Koin yang digunakan: [25, 10, 5]\n"
          ]
        }
      ]
    },
    {
      "cell_type": "markdown",
      "source": [
        "# Soal 8"
      ],
      "metadata": {
        "id": "ejNN4bQjG6gg"
      }
    },
    {
      "cell_type": "code",
      "source": [
        "def reverse_words(input_string):\n",
        "    # Memisahkan string menjadi kata-kata\n",
        "    words = input_string.split()\n",
        "    # Mengonversi setiap kata menjadi terbalik\n",
        "    reversed_words = [word[::-1] for word in words]\n",
        "    return reversed_words\n",
        "\n",
        "# Menerima input\n",
        "user_input = input(\"Masukkan string: \")\n",
        "# Mengonversi dan menampilkan hasil\n",
        "result = reverse_words(user_input)\n",
        "print(result)\n"
      ],
      "metadata": {
        "colab": {
          "base_uri": "https://localhost:8080/"
        },
        "id": "0FKH8Lu7G8Zn",
        "outputId": "23056e4c-2e68-4c5f-ba9c-7f81e21a9a4a"
      },
      "execution_count": 18,
      "outputs": [
        {
          "output_type": "stream",
          "name": "stdout",
          "text": [
            "Masukkan string: Tugas Satu Infrastruktur Done\n",
            "['saguT', 'utaS', 'rutkurtsarfnI', 'enoD']\n"
          ]
        }
      ]
    },
    {
      "cell_type": "markdown",
      "source": [
        "# Soal 9"
      ],
      "metadata": {
        "id": "ys73UrgoIPsN"
      }
    },
    {
      "cell_type": "code",
      "source": [
        "# Membuat class\n",
        "class Buku:\n",
        "    def __init__(self, judul, penulis, tahun_terbit):\n",
        "        self.judul = judul\n",
        "        self.penulis = penulis\n",
        "        self.tahun_terbit = tahun_terbit\n",
        "\n",
        "    def tampilkan_informasi(self):\n",
        "        return f\"Judul: {self.judul}, Penulis: {self.penulis}, Tahun Terbit: {self.tahun_terbit}\"\n",
        "\n",
        "    def hitung_usia(self, tahun_sekarang):\n",
        "        return tahun_sekarang - self.tahun_terbit\n",
        "\n",
        "# Membuat objek dari class Buku\n",
        "buku1 = Buku(\"Kosmos\", \"Carl Sagan\", 1980)\n",
        "buku2 = Buku(\"The Selfish Gene\", \"Ricard Dawkins\", 1976)\n",
        "buku3 = Buku(\"A Brief History of Time\", \"Stephen Hawking\", 1988)\n",
        "\n",
        "# Menampilkan informasi dan usia setiap buku\n",
        "tahun_sekarang = 2024\n",
        "buku_list = [buku1, buku2, buku3]\n",
        "\n",
        "for buku in buku_list:\n",
        "    print(buku.tampilkan_informasi())\n",
        "    print(f\"Usia Buku: {buku.hitung_usia(tahun_sekarang)} tahun\\n\")\n"
      ],
      "metadata": {
        "colab": {
          "base_uri": "https://localhost:8080/"
        },
        "id": "9a0krn2LIRSR",
        "outputId": "0121c16d-52db-41aa-8d53-02e827a364d2"
      },
      "execution_count": 19,
      "outputs": [
        {
          "output_type": "stream",
          "name": "stdout",
          "text": [
            "Judul: Kosmos, Penulis: Carl Sagan, Tahun Terbit: 1980\n",
            "Usia Buku: 44 tahun\n",
            "\n",
            "Judul: The Selfish Gene, Penulis: Ricard Dawkins, Tahun Terbit: 1976\n",
            "Usia Buku: 48 tahun\n",
            "\n",
            "Judul: A Brief History of Time, Penulis: Stephen Hawking, Tahun Terbit: 1988\n",
            "Usia Buku: 36 tahun\n",
            "\n"
          ]
        }
      ]
    },
    {
      "cell_type": "markdown",
      "source": [
        "# Soal 10"
      ],
      "metadata": {
        "id": "p_ZGK_IHLPHd"
      }
    },
    {
      "cell_type": "code",
      "source": [
        "def binary_search(arr, target):\n",
        "    low = 0\n",
        "    high = len(arr) - 1\n",
        "\n",
        "    while low <= high:\n",
        "        mid = (low + high) // 2\n",
        "        if arr[mid] == target:\n",
        "            return mid  # Mengembalikan indeks jika ditemukan\n",
        "        elif arr[mid] < target:\n",
        "            low = mid + 1\n",
        "        else:\n",
        "            high = mid - 1\n",
        "\n",
        "    return -1  # Mengembalikan -1 jika tidak ditemukan\n",
        "\n",
        "def main():\n",
        "    # Daftar angka genap yang sudah terurut\n",
        "    even_numbers = [2, 4, 6, 8, 10, 12, 14, 16, 18, 20, 22, 24, 26, 28, 30]\n",
        "\n",
        "    # Meminta input dari pengguna\n",
        "    target = int(input(\"Masukkan angka yang ingin dicari: \"))\n",
        "\n",
        "    # Memeriksa apakah nilai yang dicari adalah angka ganjil\n",
        "    if target % 2 != 0:\n",
        "        print(\"Angka yang anda cari adalah ganjil, nilai tidak bisa ditemukan.\")\n",
        "    else:\n",
        "        # Melakukan pencarian biner\n",
        "        result = binary_search(even_numbers, target)\n",
        "        if result != -1:\n",
        "            print(f\"Angka {target} ditemukan pada indeks {result}.\")\n",
        "        else:\n",
        "            print(f\"Angka {target} tidak ditemukan dalam daftar.\")\n",
        "\n",
        "# Menjalankan program\n",
        "main()\n"
      ],
      "metadata": {
        "colab": {
          "base_uri": "https://localhost:8080/"
        },
        "id": "0xRvKXsZLRmr",
        "outputId": "655a6ce4-2908-4e80-ff7f-7e7b06d2646b"
      },
      "execution_count": 2,
      "outputs": [
        {
          "output_type": "stream",
          "name": "stdout",
          "text": [
            "Masukkan angka yang ingin dicari: 18\n",
            "Angka 18 ditemukan pada indeks 8.\n"
          ]
        }
      ]
    }
  ]
}