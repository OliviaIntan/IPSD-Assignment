{
  "nbformat": 4,
  "nbformat_minor": 0,
  "metadata": {
    "colab": {
      "provenance": [],
      "authorship_tag": "ABX9TyOA+pdlUFhaxbCJMDF//eW+",
      "include_colab_link": true
    },
    "kernelspec": {
      "name": "python3",
      "display_name": "Python 3"
    },
    "language_info": {
      "name": "python"
    }
  },
  "cells": [
    {
      "cell_type": "markdown",
      "metadata": {
        "id": "view-in-github",
        "colab_type": "text"
      },
      "source": [
        "<a href=\"https://colab.research.google.com/github/OliviaIntan/IPSD-Assignment/blob/main/Modul%20-%201%20Dasar%20Dasar%20Python%20untuk%20Sains%20Data/Unguided/Soal%201.ipynb\" target=\"_parent\"><img src=\"https://colab.research.google.com/assets/colab-badge.svg\" alt=\"Open In Colab\"/></a>"
      ]
    },
    {
      "cell_type": "markdown",
      "source": [
        "Soal 1"
      ],
      "metadata": {
        "id": "ZYhWRxza_0wx"
      }
    },
    {
      "cell_type": "code",
      "execution_count": 5,
      "metadata": {
        "id": "FlMnCGT_D02H",
        "colab": {
          "base_uri": "https://localhost:8080/"
        },
        "outputId": "4bb3159f-dffe-497e-843f-2f5a1cbcb361"
      },
      "outputs": [
        {
          "output_type": "stream",
          "name": "stdout",
          "text": [
            "Masukkan jumlah baris: 4\n",
            "1 \n",
            "2 3 \n",
            "5 7 11 \n",
            "13 17 19 23 \n"
          ]
        }
      ],
      "source": [
        "# Fungsi untuk mengecek apakah suatu bilangan adalah bilangan prima\n",
        "def is_prime(n):\n",
        "    if n < 2:\n",
        "        return False\n",
        "    for i in range(2, int(n**0.5) + 1):\n",
        "        if n % i == 0:\n",
        "            return False\n",
        "    return True\n",
        "\n",
        "# Fungsi untuk menghasilkan pola bilangan prima dimulai dengan 1\n",
        "def generate_prime_pattern(rows):\n",
        "    primes = [1]  # Memulai dengan angka 1\n",
        "    num = 2\n",
        "    while len(primes) < (rows * (rows + 1)) // 2:\n",
        "        if is_prime(num):\n",
        "            primes.append(num)\n",
        "        num += 1\n",
        "\n",
        "    index = 0\n",
        "    for i in range(1, rows + 1):\n",
        "        for j in range(i):\n",
        "            print(primes[index], end=\" \")\n",
        "            index += 1\n",
        "        print()\n",
        "\n",
        "# Jumlah baris yang ingin dihasilkan\n",
        "rows = int(input(\"Masukkan jumlah baris: \"))\n",
        "generate_prime_pattern(rows)\n"
      ]
    },
    {
      "cell_type": "markdown",
      "source": [],
      "metadata": {
        "id": "tRxdWobts2dc"
      }
    }
  ]
}