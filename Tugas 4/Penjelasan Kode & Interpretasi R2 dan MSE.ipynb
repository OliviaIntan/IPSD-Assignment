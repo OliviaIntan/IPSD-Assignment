{
  "nbformat": 4,
  "nbformat_minor": 0,
  "metadata": {
    "colab": {
      "provenance": [],
      "include_colab_link": true
    },
    "kernelspec": {
      "name": "python3",
      "display_name": "Python 3"
    },
    "language_info": {
      "name": "python"
    }
  },
  "cells": [
    {
      "cell_type": "markdown",
      "metadata": {
        "id": "view-in-github",
        "colab_type": "text"
      },
      "source": [
        "<a href=\"https://colab.research.google.com/github/OliviaIntan/IPSD-Assignment/blob/main/Tugas%204/Penjelasan%20Kode%20%26%20Interpretasi%20R2%20dan%20MSE.ipynb\" target=\"_parent\"><img src=\"https://colab.research.google.com/assets/colab-badge.svg\" alt=\"Open In Colab\"/></a>"
      ]
    },
    {
      "cell_type": "code",
      "execution_count": 1,
      "metadata": {
        "id": "gVY9qmuGNf6U"
      },
      "outputs": [],
      "source": [
        "from sklearn.datasets import load_diabetes # import dataset\n",
        "from sklearn.linear_model import LinearRegression, Lasso, Ridge # import tiga jenis model regresi (regeresi linear, regresi lasso, regresi ridge)\n",
        "from sklearn.model_selection import train_test_split # membagi dataset menjadi data pelatihan dan data pengujian\n",
        "from sklearn.metrics import mean_squared_error, r2_score # import metrik evaluasi"
      ]
    },
    {
      "cell_type": "code",
      "source": [
        "x, y = load_diabetes(return_X_y=True) # memuat data diabetes yang berisi fitur dan target ke dalam variabel x dan y"
      ],
      "metadata": {
        "id": "DT56B3zNOOcR"
      },
      "execution_count": 2,
      "outputs": []
    },
    {
      "cell_type": "code",
      "source": [
        "lr = LinearRegression() # membuat sebuah objek dari model regresi linear yang diberi nama 'lr'"
      ],
      "metadata": {
        "id": "9U8HVZP7OQ4l"
      },
      "execution_count": 3,
      "outputs": []
    },
    {
      "cell_type": "code",
      "source": [
        "len(load_diabetes()['feature_names']) # menghitung jumlah fitur yang berupa variabel independen dalam data diabetes"
      ],
      "metadata": {
        "colab": {
          "base_uri": "https://localhost:8080/"
        },
        "id": "tLM0KiKhP2Uf",
        "outputId": "77add15e-bad1-4b61-cae2-25a239aa8150"
      },
      "execution_count": 4,
      "outputs": [
        {
          "output_type": "execute_result",
          "data": {
            "text/plain": [
              "10"
            ]
          },
          "metadata": {},
          "execution_count": 4
        }
      ]
    },
    {
      "cell_type": "code",
      "source": [
        "lr.fit(x, y) # melatih model regresi linear menggunakan x (fitur) dan y (target)\n",
        "y_pred = lr.predict(x) # melakukan prediksi nilai target pada data diabetes"
      ],
      "metadata": {
        "id": "BAbccG0DPMj3"
      },
      "execution_count": 5,
      "outputs": []
    },
    {
      "cell_type": "code",
      "source": [
        "print(r2_score(y, y_pred)) # menghitung serta mencetak nilai R2 (R-squared) untuk mengukur seberapa baik model"
      ],
      "metadata": {
        "colab": {
          "base_uri": "https://localhost:8080/"
        },
        "id": "z2g9jvt0PTrw",
        "outputId": "68a4e434-d97b-40d5-e895-a1b3f310f119"
      },
      "execution_count": 6,
      "outputs": [
        {
          "output_type": "stream",
          "name": "stdout",
          "text": [
            "0.5177484222203499\n"
          ]
        }
      ]
    },
    {
      "cell_type": "markdown",
      "source": [
        "Terlihat nilai dari R2 adalah 0,5177. Ini berarti sekitar 51,7% variasi data dapat dijelaskan oleh model. Dari hal tersebut menunjukkan bahwa model memiliki kinerja yang sedang."
      ],
      "metadata": {
        "id": "DpiVP8_wuSgD"
      }
    },
    {
      "cell_type": "code",
      "source": [
        "print(mean_squared_error(y, y_pred)) # menghitung serta mencetak nilai MSE (Mean Squared Error) untuk menghitung rata-rata dari kuadrat kesalahan prediksi model"
      ],
      "metadata": {
        "colab": {
          "base_uri": "https://localhost:8080/"
        },
        "id": "dYsLiUUUPdaq",
        "outputId": "1f3ef927-3789-48f9-cc1f-1a71e55e3871"
      },
      "execution_count": 7,
      "outputs": [
        {
          "output_type": "stream",
          "name": "stdout",
          "text": [
            "2859.69634758675\n"
          ]
        }
      ]
    },
    {
      "cell_type": "markdown",
      "source": [
        "Terlihat bahwa nilai dari MSE adalah 2859,69. Nilai MSE yang cukup tinggi tersebut menunjukkan bahwa model tidak cukup baik dalam memprediksi nilai target."
      ],
      "metadata": {
        "id": "1CXzLgsEx5Dd"
      }
    },
    {
      "cell_type": "code",
      "source": [
        "from sklearn.model_selection import train_test_split # membagi dataset menjadi data pelatihan dan data pengujian\n",
        "x_train, x_test, y_train, y_test = train_test_split(x, y, test_size=0.2, random_state=42) # 20% dari dataset untuk pengujian dan 80% untuk pelatihan"
      ],
      "metadata": {
        "id": "NSovgppnRK8N"
      },
      "execution_count": 8,
      "outputs": []
    },
    {
      "cell_type": "code",
      "source": [
        "lr = LinearRegression() # membuat objek regresi linear\n",
        "lr.fit(x_train, y_train) # melatih model regresi linear menggunakan data pelatihan\n",
        "y_pred = lr.predict(x_test) # melakukan prediksi menggunakan data pengujian\n",
        "print(r2_score(y_test, y_pred)) # menghitung serta mencetak R2\n",
        "print(mean_squared_error(y_test, y_pred)) # menghitung serta mencetak MSE"
      ],
      "metadata": {
        "colab": {
          "base_uri": "https://localhost:8080/"
        },
        "id": "cL2qvqCJPiic",
        "outputId": "e2ae7125-511f-44b5-942a-719e329f2976"
      },
      "execution_count": 9,
      "outputs": [
        {
          "output_type": "stream",
          "name": "stdout",
          "text": [
            "0.4526027629719195\n",
            "2900.193628493482\n"
          ]
        }
      ]
    },
    {
      "cell_type": "markdown",
      "source": [
        "Terlihat bahwa nilai R2 sebesar 0,452. Ini berarti sekitar 45,26% variasi data dapat dijelaskan oleh model. Dari hal tersebut menunjukkan bahwa model tidak terlalu baik dalam memprediksi nilai target.\n",
        "Kemudian dapat diketahui juga nilai dari MSE sebesar 2900,19. Nilai tersebut menunjukkan bahwa rata-rata kesalahan kuadrat antara prediksi dan nilai sebenarnya cukup besar. Sehingga, model regresi linear tersebut menunukkan performa yang cukup terbatas."
      ],
      "metadata": {
        "id": "Wf-Jcuhn1ztO"
      }
    }
  ]
}