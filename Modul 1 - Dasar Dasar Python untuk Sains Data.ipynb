{
  "nbformat": 4,
  "nbformat_minor": 0,
  "metadata": {
    "colab": {
      "provenance": [],
      "authorship_tag": "ABX9TyMHABDt7nGMtsN2OM6GN679",
      "include_colab_link": true
    },
    "kernelspec": {
      "name": "python3",
      "display_name": "Python 3"
    },
    "language_info": {
      "name": "python"
    }
  },
  "cells": [
    {
      "cell_type": "markdown",
      "metadata": {
        "id": "view-in-github",
        "colab_type": "text"
      },
      "source": [
        "<a href=\"https://colab.research.google.com/github/OliviaIntan/IPSD-Assignment/blob/main/Modul%201%20-%20Dasar%20Dasar%20Python%20untuk%20Sains%20Data.ipynb\" target=\"_parent\"><img src=\"https://colab.research.google.com/assets/colab-badge.svg\" alt=\"Open In Colab\"/></a>"
      ]
    },
    {
      "cell_type": "markdown",
      "source": [
        "Buat program yang menampilkan nama dan umur"
      ],
      "metadata": {
        "id": "HTwpVGG48IJw"
      }
    },
    {
      "cell_type": "code",
      "source": [
        "nama = \"Yanto\"\n",
        "umur = 38\n",
        "print(f\"Nama : {nama} \\nUmur : {umur}\")"
      ],
      "metadata": {
        "colab": {
          "base_uri": "https://localhost:8080/"
        },
        "id": "9dzn7W4K8MEb",
        "outputId": "045f63fb-80ae-4e5b-acb7-403ca251d8a9"
      },
      "execution_count": null,
      "outputs": [
        {
          "output_type": "stream",
          "name": "stdout",
          "text": [
            "Nama : Yanto \n",
            "Umur : 38\n"
          ]
        }
      ]
    },
    {
      "cell_type": "markdown",
      "source": [
        "Buat variabel untuk menyimpan nilai luas dan keliling lingkaran, hitung hasilnya."
      ],
      "metadata": {
        "id": "7dsx5J-L8R9v"
      }
    },
    {
      "cell_type": "code",
      "source": [
        "from math import pi\n",
        "\n",
        "jari = 8\n",
        "luas = pi *jari**2\n",
        "keliling = 2*pi*jari\n",
        "print(f\"Luas Lingkaran : {luas} \\nKeliling Lingkaran : {keliling}\")\n"
      ],
      "metadata": {
        "colab": {
          "base_uri": "https://localhost:8080/"
        },
        "id": "ewy2Pi2C8S13",
        "outputId": "5e112ac5-da13-42e3-adfb-ddae96920503"
      },
      "execution_count": null,
      "outputs": [
        {
          "output_type": "stream",
          "name": "stdout",
          "text": [
            "Luas Lingkaran : 201.06192982974676 \n",
            "Keliling Lingkaran : 50.26548245743669\n"
          ]
        }
      ]
    },
    {
      "cell_type": "markdown",
      "source": [
        "Tampilkan tipe data dari variabel yang menyimpan angka dan teks."
      ],
      "metadata": {
        "id": "d7tfwbtV88nk"
      }
    },
    {
      "cell_type": "code",
      "source": [
        "angka = 129\n",
        "teks = 'ini angka'\n",
        "print(f\"Tipe Data Angka : {type(angka)} \\nTipe Data Teks : {type(teks)}\")"
      ],
      "metadata": {
        "colab": {
          "base_uri": "https://localhost:8080/"
        },
        "id": "DbR5rJJq89cd",
        "outputId": "df2f58b1-9324-4d89-fae8-5a9b9ce8e375"
      },
      "execution_count": null,
      "outputs": [
        {
          "output_type": "stream",
          "name": "stdout",
          "text": [
            "Tipe Data Angka : <class 'int'> \n",
            "Tipe Data Teks : <class 'str'>\n"
          ]
        }
      ]
    },
    {
      "cell_type": "markdown",
      "source": [],
      "metadata": {
        "id": "rE0C0xl79BTc"
      }
    },
    {
      "cell_type": "markdown",
      "source": [
        "Buat program untuk memeriksa apakah program yang digunakan ganjil atau genap"
      ],
      "metadata": {
        "id": "QVLVjGesqcrH"
      }
    },
    {
      "cell_type": "code",
      "execution_count": null,
      "metadata": {
        "colab": {
          "base_uri": "https://localhost:8080/"
        },
        "id": "2bCrYkL2pjBw",
        "outputId": "5931a3fc-a476-42d4-95d0-db91264a471f"
      },
      "outputs": [
        {
          "output_type": "stream",
          "name": "stdout",
          "text": [
            "Ganjil\n"
          ]
        }
      ],
      "source": [
        "number = 7\n",
        "if number % 2 == 0:\n",
        "  print(\"Genap\")\n",
        "else:\n",
        "  print(\"Ganjil\")"
      ]
    },
    {
      "cell_type": "markdown",
      "source": [
        "Exception (cara menghandle suatu eror pada python)"
      ],
      "metadata": {
        "id": "HjGGGfnqrU_h"
      }
    },
    {
      "cell_type": "code",
      "source": [
        "try:\n",
        "  result = 10 / 0\n",
        "except ZeroDivisionError:\n",
        "  print(\"Division by zero is not allowed\")"
      ],
      "metadata": {
        "colab": {
          "base_uri": "https://localhost:8080/"
        },
        "id": "FfIUPrzAq-h4",
        "outputId": "b96eb99a-96a5-4a2f-a66b-9a92583305d4"
      },
      "execution_count": null,
      "outputs": [
        {
          "output_type": "stream",
          "name": "stdout",
          "text": [
            "Division by zero is not allowed\n"
          ]
        }
      ]
    },
    {
      "cell_type": "markdown",
      "source": [
        "Buat program yang menangkap kesalahan input bukan angka"
      ],
      "metadata": {
        "id": "IChYxNhms6Gr"
      }
    },
    {
      "cell_type": "code",
      "source": [
        "angka = 'ini angka'\n",
        "try:\n",
        "  angka = int(angka)\n",
        "except ValueError:\n",
        "  print(\"\")"
      ],
      "metadata": {
        "colab": {
          "base_uri": "https://localhost:8080/"
        },
        "id": "YLErJp2Bs9mo",
        "outputId": "89ab0dd6-0e51-431a-eb2c-0765ead5cc47"
      },
      "execution_count": null,
      "outputs": [
        {
          "output_type": "stream",
          "name": "stdout",
          "text": [
            "\n"
          ]
        }
      ]
    },
    {
      "cell_type": "markdown",
      "source": [
        "Buat program yang menggunakan finally untuk menampilkan pesan setelah exception"
      ],
      "metadata": {
        "id": "_g25K5eJt2H4"
      }
    },
    {
      "cell_type": "code",
      "source": [
        "try:\n",
        "  result = 10 / 0\n",
        "except ZeroDivisionError:\n",
        "  print(\"Division by zero is not allowed\")\n",
        "finally:\n",
        "  print('This will execute regardless of an exception')"
      ],
      "metadata": {
        "id": "VQT3z9crtqBv"
      },
      "execution_count": null,
      "outputs": []
    },
    {
      "cell_type": "markdown",
      "source": [
        "Buat class mahasiswa yang memiliki atribut nama dan umur"
      ],
      "metadata": {
        "id": "Ak1AMoaKuWWy"
      }
    },
    {
      "cell_type": "code",
      "source": [
        "class Mahasiswa:\n",
        "  def __init__(self, nama, umur, jenis_kelamin):\n",
        "    self.nama = nama\n",
        "    self.umur = umur\n",
        "    self.jk = jenis_kelamin\n",
        "\n",
        "  def tampilkan_informasi(self):\n",
        "    print(f\"Nama: {self.nama}, Umur: {self.umur}, Jenis kelamin: {self.jk}\")"
      ],
      "metadata": {
        "id": "uzZt_MH_uaEt"
      },
      "execution_count": null,
      "outputs": []
    },
    {
      "cell_type": "code",
      "source": [
        "mhs = Mahasiswa('Yanto', 98, 'Laki-laki')\n",
        "mhs.tampilkan_informasi() #memanggil fungsi untuk menampilkan informasi"
      ],
      "metadata": {
        "colab": {
          "base_uri": "https://localhost:8080/"
        },
        "id": "bywz8IIhvmjP",
        "outputId": "57ddbf88-edd6-4fd1-e3d8-e346c9cd815c"
      },
      "execution_count": null,
      "outputs": [
        {
          "output_type": "stream",
          "name": "stdout",
          "text": [
            "Nama: Yanto, Umur: 98, Jenis kelamin: Laki-laki\n"
          ]
        }
      ]
    },
    {
      "cell_type": "markdown",
      "source": [
        "Buat program yang menggunakan"
      ],
      "metadata": {
        "id": "MxtFLjQnxbT0"
      }
    },
    {
      "cell_type": "code",
      "source": [
        "class Person:\n",
        "  def __init__(self, name):\n",
        "    self.name = name\n",
        "\n",
        "class Mahasiswa(Person):\n",
        "  def __init__(self, name, umur):\n",
        "    super().__init__(name)\n",
        "    self.umur = umur\n",
        "\n",
        "mahasiswa = Mahasiswa(\"Aliance\", 20)\n",
        "print(mahasiswa.name, mahasiswa.umur)"
      ],
      "metadata": {
        "colab": {
          "base_uri": "https://localhost:8080/"
        },
        "id": "nKDBTUttxeiM",
        "outputId": "6afd67ad-8890-4748-f85a-5ec4d5d24ff2"
      },
      "execution_count": null,
      "outputs": [
        {
          "output_type": "stream",
          "name": "stdout",
          "text": [
            "Aliance 20\n"
          ]
        }
      ]
    },
    {
      "cell_type": "markdown",
      "source": [
        "Buat fungsi apakah suatu angka adalah bilangan prima"
      ],
      "metadata": {
        "id": "ckyeoSLTz6zy"
      }
    },
    {
      "cell_type": "code",
      "source": [
        "def is_prime(n):\n",
        "  if n <= 1:\n",
        "    return False\n",
        "  for i in range(2, int(n**0.5) + 1):\n",
        "    if n % i == 0:\n",
        "        return False\n",
        "    return True\n",
        "\n",
        "print(is_prime(7))"
      ],
      "metadata": {
        "colab": {
          "base_uri": "https://localhost:8080/"
        },
        "id": "WurAK2t5z-Tg",
        "outputId": "eacb5c3d-8c24-4a85-ce2d-044a39661787"
      },
      "execution_count": null,
      "outputs": [
        {
          "output_type": "stream",
          "name": "stdout",
          "text": [
            "True\n"
          ]
        }
      ]
    }
  ]
}